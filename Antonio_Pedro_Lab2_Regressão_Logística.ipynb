{
  "nbformat": 4,
  "nbformat_minor": 0,
  "metadata": {
    "colab": {
      "provenance": [],
      "collapsed_sections": [
        "U49f03mkIs35"
      ]
    },
    "kernelspec": {
      "name": "python3",
      "display_name": "Python 3"
    },
    "language_info": {
      "name": "python"
    }
  },
  "cells": [
    {
      "cell_type": "markdown",
      "source": [
        "# Lab 2 - BCC406/PCC177\n",
        "\n",
        "## REDES NEURAIS E APRENDIZAGEM EM PROFUNDIDADE\n",
        "\n",
        "## Regressão Logística\n",
        "\n",
        "### Prof. Eduardo e Prof. Pedro\n",
        "\n",
        "Objetivos:\n",
        "\n",
        "- Regressão Logística.\n",
        "\n",
        "Data da entrega : 24/10\n",
        "\n",
        "- Complete o código (marcado com 'ToDo') e quando requisitado, escreva textos diretamente nos notebooks. Onde tiver *None*, substitua pelo seu código.\n",
        "- Execute todo notebook e salve tudo em um PDF **nomeado** como \"NomeSobrenome-LabX.pdf\"\n",
        "- Envie o PDF via google [FORM](https://forms.gle/iX2q4iyY8kYDrsJq7)\n",
        "- Envie o *.ipynb* também.\n",
        "\n"
      ],
      "metadata": {
        "id": "X9fHBqFr2AoZ"
      }
    },
    {
      "cell_type": "markdown",
      "source": [
        "## Classificador Binário com Regressão Logística"
      ],
      "metadata": {
        "id": "j3vd_0mcyGum"
      }
    },
    {
      "cell_type": "markdown",
      "source": [
        "Você criará um classificador baseado em regressão logística para reconhecer gatos em imagens.\n",
        "\n",
        "**Dica:**\n",
        "- Evite loops (for / while) em seu código. Isso o tornará mais eficiente.\n",
        "\n",
        "**Notebook para:**\n",
        "- Construir a arquitetura geral de um algoritmo regressão logística, incluindo:\n",
        "     - Inicializando parâmetros\n",
        "     - Cálculo da função de custo e seu gradiente\n",
        "     - Algoritmo de otimização - gradiente descendente\n"
      ],
      "metadata": {
        "id": "YA0kDyQh0tQe"
      }
    },
    {
      "cell_type": "markdown",
      "source": [
        "### Preparação do ambiente\n",
        "\n",
        "\n",
        "---\n",
        "\n"
      ],
      "metadata": {
        "id": "L6vr7Hwp1PbL"
      }
    },
    {
      "cell_type": "markdown",
      "source": [
        "Primeiro precisamos importar os pacotes. Vamos executar a célula abaixo para importar todos os pacotes que precisaremos.\n",
        "- [*numpy*](www.numpy.org) é o pacote fundamental para a computação científica com Python.\n",
        "- [*h5py*](http://www.h5py.org) é um pacote comum para interagir com um conjunto de dados armazenado em um arquivo H5.\n",
        "- [*matplotlib*](http://matplotlib.org) é uma biblioteca famosa para plotar gráficos em Python.\n",
        "- [*PIL*](http://www.pythonware.com/products/pil/) e [*scipy*](https://www.scipy.org/) são usados aqui para carregar as imagens e testar seu modelo final.\n",
        "- *np.random.seed(1)* é usado para manter todas as chamadas de funções aleatórias."
      ],
      "metadata": {
        "id": "_6iroE0Y1DGJ"
      }
    },
    {
      "cell_type": "code",
      "source": [
        "import numpy as np\n",
        "import matplotlib.pyplot as plt\n",
        "import h5py as h5\n",
        "import scipy\n",
        "from PIL import Image\n",
        "from scipy import ndimage\n"
      ],
      "metadata": {
        "id": "QbeQQoMD1TG0"
      },
      "execution_count": 35,
      "outputs": []
    },
    {
      "cell_type": "code",
      "source": [
        "from google.colab import drive\n",
        "drive.mount('/content/drive')"
      ],
      "metadata": {
        "id": "TLyFwLjRlv1N",
        "outputId": "f1aa4f32-db2d-4f32-9c46-4f203b96072b",
        "colab": {
          "base_uri": "https://localhost:8080/"
        }
      },
      "execution_count": 34,
      "outputs": [
        {
          "output_type": "stream",
          "name": "stdout",
          "text": [
            "Drive already mounted at /content/drive; to attempt to forcibly remount, call drive.mount(\"/content/drive\", force_remount=True).\n"
          ]
        }
      ]
    },
    {
      "cell_type": "markdown",
      "source": [
        "O próximo passo é configurar o *matplotlib* e a geração de valores aleatórios."
      ],
      "metadata": {
        "id": "VvKAtknp1Ub8"
      }
    },
    {
      "cell_type": "code",
      "source": [
        "%matplotlib inline\n",
        "plt.rcParams['figure.figsize'] = (5.0, 4.0) # set default size of plots\n",
        "plt.rcParams['image.interpolation'] = 'nearest'\n",
        "plt.rcParams['image.cmap'] = 'gray'\n",
        "\n",
        "%load_ext autoreload\n",
        "%autoreload 2\n",
        "\n",
        "np.random.seed(1)"
      ],
      "metadata": {
        "id": "fpZHicTc1b-1"
      },
      "execution_count": 5,
      "outputs": []
    },
    {
      "cell_type": "markdown",
      "source": [],
      "metadata": {
        "id": "lK-xhFmluvdj"
      }
    },
    {
      "cell_type": "markdown",
      "source": [
        "Configurando o Google Colab."
      ],
      "metadata": {
        "id": "pXva804S1jpb"
      }
    },
    {
      "cell_type": "code",
      "source": [
        "# Você vai precisar fazer o upload dos arquivos no seu drive (faer na pasta raiz) e montá-lo\n",
        "# não se esqueça de ajustar o path para o seu drive\n",
        "from google.colab import drive\n",
        "drive.mount('/content/drive')"
      ],
      "metadata": {
        "id": "UAhlqCO71oSi",
        "colab": {
          "base_uri": "https://localhost:8080/"
        },
        "outputId": "b62a41a6-8548-407c-b559-a49c981d0e1e"
      },
      "execution_count": null,
      "outputs": [
        {
          "output_type": "stream",
          "name": "stdout",
          "text": [
            "Mounted at /content/drive\n"
          ]
        }
      ]
    },
    {
      "cell_type": "markdown",
      "source": [
        "### Entendendo o problema (1pt)\n",
        "\n",
        "\n",
        "---\n",
        "\n"
      ],
      "metadata": {
        "id": "KiFn-mt52lH2"
      }
    },
    {
      "cell_type": "markdown",
      "source": [
        "O problema a ser tratado é o de classificar imagens em duas classes: tem um gato ou não tem um gato.\n",
        "\n",
        "Há dois conjuntos de dados: *train_catvnoncat.h5* e *test_catvnoncat.h5*. Cada conjunto contem:\n",
        "\n",
        "- um conjunto de imagens rotuladas como gato ($y = 1$) ou sem-gato ($y = 0$)\n",
        "- cada imagem tem a forma (*num_px*, *num_px*, *num_ch*), em que *num_ch* é relativos aos canais de cores (RGB) e deve ser fixado em **3**. Assim, cada imagem é quadrada (altura = *num_px*) (largura = *num_px*) e colorida.\n",
        "\n",
        "\n",
        "Repare que temos um conjunto para o treinamento dos modelos (ajuste dos parâmetros) e outro conjunto chamado de teste, que serve para avaliação do modelo. Ou seja, como meu modelo vai se comportar com dados que não participaram do processo de treinamento.\n",
        "\n",
        "\n",
        "Carregue os dados executando o seguinte código."
      ],
      "metadata": {
        "id": "Lg5ZxJUV2pU5"
      }
    },
    {
      "cell_type": "code",
      "source": [
        "# Função para ler os dados (gato/não-gato)\n",
        "def load_dataset():\n",
        "\n",
        "  train_dataset = h5.File('/content/drive/MyDrive/DEEP_LEARNING/SPACTSHIP/train_catvnoncat.h5', \"r\")\n",
        "  train_set_x_orig = np.array(train_dataset[\"train_set_x\"][:]) # your train set features\n",
        "  train_set_y_orig = np.array(train_dataset[\"train_set_y\"][:]) # your train set labels\n",
        "\n",
        "  test_dataset = h5.File('/content/drive/MyDrive/DEEP_LEARNING/SPACTSHIP/test_catvnoncat.h5', \"r\")\n",
        "  test_set_x_orig = np.array(test_dataset[\"test_set_x\"][:]) # your test set features\n",
        "  test_set_y_orig = np.array(test_dataset[\"test_set_y\"][:]) # your test set labels\n",
        "\n",
        "  classes = np.array(test_dataset[\"list_classes\"][:]) # the list of classes\n",
        "  train_set_y_orig = train_set_y_orig.reshape((1, train_set_y_orig.shape[0]))\n",
        "  test_set_y_orig = test_set_y_orig.reshape((1, test_set_y_orig.shape[0]))\n",
        "\n",
        "  return train_set_x_orig, train_set_y_orig, test_set_x_orig, test_set_y_orig, classes"
      ],
      "metadata": {
        "id": "UHLusbpm2SWW"
      },
      "execution_count": 36,
      "outputs": []
    },
    {
      "cell_type": "code",
      "source": [
        "# Lendo os dados (gato/não-gato) #treino_y, teste_y\n",
        "treino_x_orig, treino_y, teste_x_orig, teste_y, classes = load_dataset()"
      ],
      "metadata": {
        "id": "M-H8_xtN2SWX"
      },
      "execution_count": 19,
      "outputs": []
    },
    {
      "cell_type": "markdown",
      "source": [
        "O termo `_orig` no final dos conjuntos de dados (treino e teste) significa que estamos tratando com os dados lidos originalmente. Após o pré-processamento, atribuiremos a outros objetos (`treino_x` e `teste_x`).\n",
        "\n",
        "\n",
        "Cada linha de `treino_x_orig` e `teste_x_orig` é uma matriz que representa uma imagem. Você pode visualizar um exemplo executando o seguinte código.\n"
      ],
      "metadata": {
        "id": "hGDRoZ1k3zrv"
      }
    },
    {
      "cell_type": "code",
      "source": [
        "# Exemplo\n",
        "index = 13\n",
        "plt.imshow(treino_x_orig[index])\n",
        "print (\"y = \" + str(treino_y[:, index]) + \", é uma figura '\" + classes[np.squeeze(treino_y[:, index])].decode(\"utf-8\") +  \"''\")"
      ],
      "metadata": {
        "id": "jV7JC4Ji4D6Q",
        "colab": {
          "base_uri": "https://localhost:8080/",
          "height": 389
        },
        "outputId": "7c44608b-3586-47a5-9956-87baea9638be"
      },
      "execution_count": 37,
      "outputs": [
        {
          "output_type": "stream",
          "name": "stdout",
          "text": [
            "y = [1], é uma figura 'cat''\n"
          ]
        },
        {
          "output_type": "display_data",
          "data": {
            "text/plain": [
              "<Figure size 500x400 with 1 Axes>"
            ],
            "image/png": "[encoded data removed]"
          },
          "metadata": {}
        }
      ]
    },
    {
      "cell_type": "markdown",
      "source": [
        "Mas quantos dados temos?"
      ],
      "metadata": {
        "id": "xm5D0y2m4i9W"
      }
    },
    {
      "cell_type": "code",
      "source": [
        "print (f'Formto de treino_x: {treino_x_orig.shape}')\n",
        "print (f'formto de treiro_y: {treino_y.shape}')\n",
        "print (f'formto de teste_x: {teste_x_orig.shape}')\n",
        "print (f'formto de teste_y: {teste_y.shape}')"
      ],
      "metadata": {
        "id": "DMtgjSJw4hyq",
        "colab": {
          "base_uri": "https://localhost:8080/"
        },
        "outputId": "56faa20d-555c-44ba-e98c-e558bffd3a92"
      },
      "execution_count": 38,
      "outputs": [
        {
          "output_type": "stream",
          "name": "stdout",
          "text": [
            "Formto de treino_x: (209, 64, 64, 3)\n",
            "formto de treiro_y: (1, 209)\n",
            "formto de teste_x: (50, 64, 64, 3)\n",
            "formto de teste_y: (1, 50)\n"
          ]
        }
      ]
    },
    {
      "cell_type": "markdown",
      "source": [
        "**ToDo:** Defina os valores para: (1pt)\n",
        "\n",
        "* `m_treino`: número de exemplos de treinamento.\n",
        "* `m_teste`: número de exemplos de teste.\n",
        "* `num_px`: altura = largura de uma imagem de treinamento.\n",
        "\n",
        "\n",
        "**DICA**: você tems estes valores nas dimensões dos tensores `treino_x_orig` e `treino_y_orig`\n",
        "\n",
        "\n"
      ],
      "metadata": {
        "id": "Hn84KJNq4l7R"
      }
    },
    {
      "cell_type": "code",
      "source": [
        "m_treino = 209 # ToDo\n",
        "m_teste =  50 # ToDo\n",
        "num_px =   64 # ToDo"
      ],
      "metadata": {
        "id": "0iADmBZR51UP"
      },
      "execution_count": 63,
      "outputs": []
    },
    {
      "cell_type": "markdown",
      "source": [
        "### Pré-processando os dados (2pt)\n",
        "\n",
        "\n",
        "---\n",
        "\n"
      ],
      "metadata": {
        "id": "glE0OcML6SjG"
      }
    },
    {
      "cell_type": "markdown",
      "source": [
        "Nesse ponto vamos preparar os dados para que sejam usados no treinamento. Para isso precisamos adaptar o formato dos dados (vetorização) e normalizá-los.\n",
        "\n",
        "Na vetorização iremos converter a imagem 3D (64 $\\times$64$\\times$3) em um único vetor 1D (12288 = 64$\\times$64$\\times$3). A figura mostra um exemplo do pré-processamento executado (imagem vetorizada).\n",
        "\n",
        "Já na normalização, colocaremos os dados em um intervalo desejado, para este trabalho será [0.0, 1.0].\n",
        "\n",
        "![Arq,widht=10](https://drive.google.com/uc?export=view&id=1zCnEB2rwc4lXU_7RTS4TXhqCwsJubg7H)\n",
        "\n",
        "<caption><center> <u>Figura</u>: Vetorização de uma imagem. <br> </center></caption>"
      ],
      "metadata": {
        "id": "D2Cf8put6Xis"
      }
    },
    {
      "cell_type": "markdown",
      "source": [
        "#### Vetorização (1pt)"
      ],
      "metadata": {
        "id": "be3hlDP76kwl"
      }
    },
    {
      "cell_type": "markdown",
      "source": [
        "Por conveniência, vamos \"**vetorizar**\" as imagens para que elas fiquem nas dimensões: `(num_px * num_px * 3, 1)`. Depois disso, nosso conjunto de dados de treinamento (e teste) será uma matriz `ndarray(numpy)` em que cada coluna representa uma imagem vetorizada. Deve haver `m_treino` colunas. O mesmo para o conjunto de teste, contudo com `m_teste` colunas."
      ],
      "metadata": {
        "id": "3G3IczCz6pPp"
      }
    },
    {
      "cell_type": "code",
      "source": [
        "# Formate o conjunto de treinamento e teste dados de treinamento e teste para que as imagens\n",
        "# de tamanho (num_px, num_px, 3) sejam vetores de forma (num_px * num_px * 3, 1)\n",
        "#    **dica**: ver documentação da função reshape(..)\n",
        "treino_x_vet = treino_x_orig.reshape(treino_x_orig.shape[0], -1).T  # ToDo: vetorizar os dados de treinamento aqui\n",
        "teste_x_vet =  teste_x_orig.reshape(teste_x_orig.shape[0], -1).T # ToDo: vetorizar os dados de teste aqui\n",
        "\n",
        "print (f'Formato de treino_x_vet: {treino_x_vet.shape}.')\n",
        "print (f'Formato de treino_y: {treino_y.shape}.')\n",
        "print (f'Formato de teste_x_vet: {teste_x_vet.shape}.')\n",
        "print (f'Formato de teste_y: {teste_y.shape}.')"
      ],
      "metadata": {
        "id": "G0YvGH7-7R_6",
        "colab": {
          "base_uri": "https://localhost:8080/"
        },
        "outputId": "61fc8f1b-0468-4375-ebe7-cf383e863ea5"
      },
      "execution_count": 43,
      "outputs": [
        {
          "output_type": "stream",
          "name": "stdout",
          "text": [
            "Formato de treino_x_vet: (12288, 209).\n",
            "Formato de treino_y: (1, 209).\n",
            "Formato de teste_x_vet: (12288, 50).\n",
            "Formato de teste_y: (1, 50).\n"
          ]
        }
      ]
    },
    {
      "cell_type": "markdown",
      "source": [
        "#### Normalização (1pt)"
      ],
      "metadata": {
        "id": "y3NNh9eF71kL"
      }
    },
    {
      "cell_type": "markdown",
      "source": [
        "As imagens do conjunto de dados são repreesentadas por canais (RGB). Os canais vermelho, verde e azul devem ser especificados para cada pixel e, portanto, o valor do pixel é na verdade um vetor de três números que variam de 0 a 255.\n",
        "\n",
        "Uma etapa comum de pré-processamento no aprendizado de máquina é centralizar e normalizar seu conjunto de dados, que significa subtrair cada exemplo pela média do conjunto todo e dividir pelo desvio padrão (de toda a matriz de dados de treino). Porém, para conjuntos de dados de imagens, é mais simples e conveniente apenas dividir cada pixel por 255 (o valor máximo).\n",
        "\n",
        "Vamos normalizar o conjunto de dados, dexando os valores dos pixels entre 0 e 1."
      ],
      "metadata": {
        "id": "XYpRUeD573oY"
      }
    },
    {
      "cell_type": "code",
      "source": [
        "# Normalize os dados (colocar no intervalo [0.0, 1.0])\n",
        "treino_x = treino_x_vet/255.0  # ToDo: normalize os dados de treinamento aqui\n",
        "teste_x =  teste_x_vet/255.0    # ToDo: normalize os dados de teste aqui"
      ],
      "metadata": {
        "id": "8JgdXaAT8AV-"
      },
      "execution_count": 44,
      "outputs": []
    },
    {
      "cell_type": "markdown",
      "source": [
        "### Arquitetura da rede e o algoritmo de aprendizado\n",
        "\n",
        "---\n",
        "\n"
      ],
      "metadata": {
        "id": "Odx4i_im9m1y"
      }
    },
    {
      "cell_type": "markdown",
      "source": [
        "A figura a seguir explica o porquê **a regressão logística é realmente uma rede neural muito simples!**\n",
        "\n",
        "![Arq,widht=200](https://drive.google.com/uc?export=view&id=16lfjW5R0BMWrGMLY2j3pRvQ_16ttDJRe)\n",
        "\n",
        "\n",
        "**Expressão matemática do algoritmo**:\n",
        "\n",
        "Para um exemplo $x^{(i)}$:\n",
        "\n",
        "$$z^{(i)} = w^T x^{(i)} + b \\tag{1},$$\n",
        "$$\\hat{y^{(i)}} = a^{(i)} = sigmoid(z^{(i)})\\tag{2},$$\n",
        "$$L(a^{(i)}, y^{(i)}) =  - y^{(i)}  \\log(a^{(i)}) - (1-y^{(i)} )  \\log(1-a^{(i)})\\tag{3},$$\n",
        "\n",
        "onde:\n",
        " - $z^{(i)}$ é a saída cálculo entre a multiplicação dos pesos e dos valores de entrada mais o *bias*.\n",
        " - $x^{(i)}$ é o seu vetor de entrada, sendo $x_k^{(i)}$ o valor de cada pixel.\n",
        " - $w$ é o seu vetor de pesos (vem do inglês: weights).\n",
        " - $b$ é o seu viés (vem do inglês: bias).\n",
        " - $y^{(i)}$ é a saída esperada para o vetor de entrada $x^{(i)}$.\n",
        " - $\\hat{y^{(i)}}$ e $a^{(i)}$ são a saída da sua rede dada a entrada $x^{(i)}$.\n",
        " - $L(a^{(i)}, y^{(i)})$ é o *loss* dada a entrada $x^{(i)}$.\n",
        " - *sigmoid* e *log* são funções matemáticas.\n",
        "\n",
        "O custo é então calculado somando sobre todos os exemplos do treinamento:\n",
        "\n",
        "$$J = \\frac{1}{m} \\sum_{i=1}^m L(a^{(i)}, y^{(i)})\\tag{6},$$\n",
        "\n",
        "onde $m$ é o conjunto de imagens de um lote.\n",
        "\n",
        "**Etapas principais**:\n",
        "\n",
        "Neste exercício, você executará as seguintes etapas:\n",
        "\n",
        "- Inicializar os parâmetros do modelo\n",
        "- Aprender os parâmetros do modelo, minimizando o custo\n",
        "- Use os parâmetros aprendidos para fazer a predição (no conjunto de testes)\n",
        "- Analisar os resultados."
      ],
      "metadata": {
        "id": "VIQRoScR9qr9"
      }
    },
    {
      "cell_type": "markdown",
      "source": [
        "### Criando o código para treinar o modelo (79pt)\n",
        "\n",
        "\n",
        "---\n",
        "\n"
      ],
      "metadata": {
        "id": "-gauM9lXD7LB"
      }
    },
    {
      "cell_type": "markdown",
      "source": [
        "Agora que entendemos a arquitetura da rede (uma única camada oculta e uma camada de saída), precisamos criar as funções para inicializar os pesos, *sigmoid* e de custo."
      ],
      "metadata": {
        "id": "IXvR_pChEEuc"
      }
    },
    {
      "cell_type": "markdown",
      "source": [
        "#### Inicialização dos pesos (4pt)"
      ],
      "metadata": {
        "id": "U49f03mkIs35"
      }
    },
    {
      "cell_type": "markdown",
      "source": [
        "O modelo precisa que os seus pesos sejam inicializados. Essa inicialização pode ser feita gerando os pesos aleatoriamente ou com valores zerados dada uma dimensão.\n",
        "\n",
        "Para testarmos, começaremos inicializando o vetor $w$ e $b$ como zero dada uma dimensão `dim`."
      ],
      "metadata": {
        "id": "EVWvQAOWIvvZ"
      }
    },
    {
      "cell_type": "code",
      "source": [
        "# Função que inicializa w e b\n",
        "#   **dica**: veja a função np.zeros(..)\n",
        "\n",
        "def inicialize(dim):\n",
        "    \"\"\"\n",
        "    Inicializa um vetor de tamanho (dim, 1) para w and  b = 0.\n",
        "\n",
        "    Entrada:\n",
        "      dim -- tamanho de w (número de parâmetros)\n",
        "    Saída:\n",
        "      w -- tamanho (dim, 1)\n",
        "      b -- um escalar (correspondente ao bias)\n",
        "    \"\"\"\n",
        "\n",
        "    w = None # ToDo: criar um vetor zero com a dimensão (dim, 1)\n",
        "    b = None # ToDo: inicializar com o valor correto\n",
        "\n",
        "    # Verificando se o retorno da função está de acordo com o esperado\n",
        "    assert(w.shape == (dim, 1))\n",
        "    assert(isinstance(b, float) or isinstance(b, int))\n",
        "\n",
        "    return w, b"
      ],
      "metadata": {
        "id": "2JQNrbPfJSDs"
      },
      "execution_count": null,
      "outputs": []
    },
    {
      "cell_type": "markdown",
      "source": [
        "Agora vamos testar a função `inicialize()`. Para isso, passaremos o valor de `dim` como sendo 2.\n",
        "\n",
        "Os valores esperados são:\n",
        "\n",
        "<table style=\"width:15%\">\n",
        "    <tr>\n",
        "        <td>  ** w **  </td>\n",
        "        <td> [[ 0.] [ 0.]] </td>\n",
        "    </tr>\n",
        "    <tr>\n",
        "        <td>  ** b **  </td>\n",
        "        <td> 0 </td>\n",
        "    </tr>\n",
        "</table>\n"
      ],
      "metadata": {
        "id": "VgLsUZhnKDAr"
      }
    },
    {
      "cell_type": "code",
      "source": [
        "dim = 2\n",
        "w, b = inicialize(dim)\n",
        "print(f'w = {w}')\n",
        "print(f'b = {b}')"
      ],
      "metadata": {
        "id": "zSRTpVKnKg3B"
      },
      "execution_count": null,
      "outputs": []
    },
    {
      "cell_type": "markdown",
      "source": [
        "#### *Sigmoid* (10pt)"
      ],
      "metadata": {
        "id": "XAH4BG31EgZl"
      }
    },
    {
      "cell_type": "markdown",
      "source": [
        "A *sigmoid* é uma função matemática com o formato de uma curva em \"S\" ou curva sigmoide. Ela transforma qualqer valor de um domínio $(-\\infty, +\\infty)$ para um número no intervalo 0 e 1.\n",
        "\n",
        "Como você viu na figura acima, você precisa calcular $sigmoid (w^T x + b) = \\frac {1} {1 + e^{- (w^T x + b)}}$ para fazer previsões."
      ],
      "metadata": {
        "id": "hh4Ta4bXEil6"
      }
    },
    {
      "cell_type": "code",
      "source": [
        "# Faça a função de ativação sigmoid\n",
        "#    **dica**: você pode usar a função exponencial do numpy (np.exp(-z))\n",
        "\n",
        "def sigmoid(z):\n",
        "    \"\"\"\n",
        "    Calcula a sigmoid de z\n",
        "\n",
        "    Entrada:\n",
        "      z -- Um escalar ou um numpy array de qualquer tamanho.\n",
        "    Saída:\n",
        "      s -- sigmoid(z)\n",
        "    \"\"\"\n",
        "    s = 1 /(1 + np.exp(-z)) # ToDo: implemente a função sigmoide\n",
        "    return s"
      ],
      "metadata": {
        "id": "DwFamAXnFnoy"
      },
      "execution_count": 48,
      "outputs": []
    },
    {
      "cell_type": "code",
      "source": [
        "def inicializar_parametros(dim):\n",
        "    w = np.random.randn(dim, 1) * 0.01\n",
        "    b = 0\n",
        "    return w, b"
      ],
      "metadata": {
        "id": "07jK1iAEi5e7"
      },
      "execution_count": 93,
      "outputs": []
    },
    {
      "cell_type": "markdown",
      "source": [
        "Agora vamos testar a função `sigmoid()`. Para isso, passaremos dois valores de teste (0 e 2).\n",
        "\n",
        "Os valores esperados são:\n",
        "\n",
        "<table>\n",
        "  <tr>\n",
        "    <td> 0 </td><td> 0.5 </td>\n",
        "  </tr>\n",
        "  <tr>\n",
        "    <td> 2 </td><td> 0.88079708 </td>\n",
        "  </tr>\n",
        "</table>\n",
        "\n",
        "Observe que a função aplica a função `sigmoid` para elemento de z.\n"
      ],
      "metadata": {
        "id": "R6ZceXoJF-Xe"
      }
    },
    {
      "cell_type": "code",
      "source": [
        "print (f'sigmoid([0, 2]) = {sigmoid(np.array([0,2]))}')"
      ],
      "metadata": {
        "id": "imELy31zHXlI",
        "colab": {
          "base_uri": "https://localhost:8080/"
        },
        "outputId": "9954d7ed-2a41-4bd9-c27c-813804bcb7b1"
      },
      "execution_count": 94,
      "outputs": [
        {
          "output_type": "stream",
          "name": "stdout",
          "text": [
            "sigmoid([0, 2]) = [0.5        0.88079708]\n"
          ]
        }
      ]
    },
    {
      "cell_type": "markdown",
      "source": [
        "#### Função de custo (10pt)"
      ],
      "metadata": {
        "id": "VsEKmKvu7WmB"
      }
    },
    {
      "cell_type": "markdown",
      "source": [
        "O objetivo da função de custo é calcular o erro ou a discrepância entre o que foi predito e o valor real.\n",
        "\n",
        "Como já foi visto, você precisa calcular\n",
        "\n",
        "$$J = -\\frac{1}{m}\\sum_{i=1}^{m}y^{(i)}\\log(a^{(i)})+(1-y^{(i)})\\log(1-a^{(i)}).$$"
      ],
      "metadata": {
        "id": "N340mnYLF7DY"
      }
    },
    {
      "cell_type": "code",
      "source": [
        "# Faça a função para calcular o custo J\n",
        "#   **dica**: você pode usar a função np.log(..)\n",
        "\n",
        "def custo(Y, A):\n",
        "    \"\"\"\n",
        "    Calcula o custo J considerando Y e A.\n",
        "\n",
        "    Entrada:\n",
        "      Y -- Um escalar ou um numpy array de qualquer tamanho com o valor real.\n",
        "      A -- Um escalar ou um numpy array de qualquer tamanho com o valor predito.\n",
        "    Saída:\n",
        "      c -- custo considerando Y e A\n",
        "    \"\"\"\n",
        "    m = Y.shape[0]\n",
        "    c = (-1/m)* np.sum(Y * np.log(A) + (1 - Y) * np.log(1 -A))# ToDo: implemente a função de custo J. **dica** : utilize a função np.log()\n",
        "    return c"
      ],
      "metadata": {
        "id": "s0uyPOXZOLoN"
      },
      "execution_count": 95,
      "outputs": []
    },
    {
      "cell_type": "markdown",
      "source": [
        "Agora vamos testar a função `custo()`. Para isso, faremos alguns testes:\n",
        "\n",
        " - Passaremos dois valores para `Y` (0 e 1) e dois para `A` (0.1 e 0.9). O valor esperado é de 0.10536051565782628.\n",
        " - Passaremos dois valores para `Y` (0 e 1) e dois para `A` (0.1 e 0.1). O valor esperado é de 1.203972804325936.\n",
        " - Passaremos dois valores para `Y` (0 e 1) e dois para `A` (0.9 e 0.9). O valor esperado é de 1.2039728043259361.\n",
        " - Passaremos dois valores para `Y` (0 e 1) e dois para `A` (0.9 e 0.1). O valor esperado é de 2.302585092994046.\n",
        " - Passaremos dois valores para `Y` (0 e 1) e dois para `A` (0.5 e 0.5). O valor esperado é de 0.6931471805599453.\n",
        "\n",
        "\n"
      ],
      "metadata": {
        "id": "mlmJHs-PO3BT"
      }
    },
    {
      "cell_type": "code",
      "source": [
        "print(f'custo([0.0, 1.0], [0.1, 0.9]) = {custo(np.array([0.0, 1.0]), np.array([0.1, 0.9]))}')\n",
        "print(f'custo([0.0, 1.0], [0.1, 0.1]) = {custo(np.array([0.0, 1.0]), np.array([0.1, 0.1]))}')\n",
        "print(f'custo([0.0, 1.0], [0.9, 0.9]) = {custo(np.array([0.0, 1.0]), np.array([0.9, 0.9]))}')\n",
        "print(f'custo([0.0, 1.0], [0.9, 0.1]) = {custo(np.array([0.0, 1.0]), np.array([0.9, 0.1]))}')\n",
        "print(f'custo([0.0, 1.0], [0.5, 0.5]) = {custo(np.array([0.0, 1.0]), np.array([0.5, 0.5]))}')"
      ],
      "metadata": {
        "id": "5d0M_QQTPa8U",
        "colab": {
          "base_uri": "https://localhost:8080/"
        },
        "outputId": "69119198-f884-4e72-e65a-8f502992e1ed"
      },
      "execution_count": 96,
      "outputs": [
        {
          "output_type": "stream",
          "name": "stdout",
          "text": [
            "custo([0.0, 1.0], [0.1, 0.9]) = 0.10536051565782628\n",
            "custo([0.0, 1.0], [0.1, 0.1]) = 1.203972804325936\n",
            "custo([0.0, 1.0], [0.9, 0.9]) = 1.2039728043259361\n",
            "custo([0.0, 1.0], [0.9, 0.1]) = 2.302585092994046\n",
            "custo([0.0, 1.0], [0.5, 0.5]) = 0.6931471805599453\n"
          ]
        }
      ]
    },
    {
      "cell_type": "markdown",
      "source": [
        "#### Propagação dos valores pelo modelo e cálculo do gradiente (20pt)"
      ],
      "metadata": {
        "id": "c22K3ElgQD9n"
      }
    },
    {
      "cell_type": "markdown",
      "source": [
        "Dada as entradas e os pesos, deve-se realizar a propagação dos dados pela rede considerando os seus pesos e logo depois a retropropagação das derivadas. Para isso, devemos implementar a função `propagacao ()` que calcula a função de custo e seu gradiente.\n",
        "\n",
        "O processo pode ser dividido em dois passos principais: **Forward-Propagation** e **Backward-propagation**.\n",
        "\n",
        "**Forward-Propagation:**\n",
        "  - Multiplique a entrada $X$ pelo vetor de pesos\n",
        "  - Calcule a ativação\n",
        "      \n",
        "      $$A = \\sigma(w^T X + b) = (a^{(1)}, a^{(2)}, ..., a^{(m-1)}, a^{(m)})$$\n",
        "\n",
        "  - Calcule a função de custo:\n",
        "      \n",
        "      $$J = -\\frac{1}{m}\\sum_{i=1}^{m}y^{(i)}\\log(a^{(i)})+(1-y^{(i)})\\log(1-a^{(i)})$$\n",
        "\n",
        "**Backward-propagation:**\n",
        "  - Cálculo do gradiente para o vetor de pesos $w$:\n",
        "      \n",
        "      $$\\frac{\\partial J}{\\partial w} = \\frac{1}{m}X(A-Y)^T\\tag{7}$$\n",
        "\n",
        "  - Cálculo do gradiente para o bias $b$:\n",
        "      \n",
        "      $$\\frac{\\partial J}{\\partial b} = \\frac{1}{m} \\sum_{i=1}^m (a^{(i)}-y^{(i)})\\tag{8}$$"
      ],
      "metadata": {
        "id": "lyBndZjDQGBZ"
      }
    },
    {
      "cell_type": "code",
      "source": [
        "def propagacao(w, b, X, Y):\n",
        "    \"\"\"\n",
        "    Implementa a função custo e seus gradientes\n",
        "\n",
        "    Entrada:\n",
        "      w -- pesos, de tamanho (num_px * num_px * 3, 1)\n",
        "      b -- bias, um escalar\n",
        "      X -- dados de treinamentos de tamanho (num_px * num_px * 3, número de exemplos)\n",
        "      Y -- ( 0 se não-gato, 1 se gato) de tamanho (1, número de exemplos)\n",
        "    Saída:\n",
        "      custo -- custo para regressão logística\n",
        "      dw -- gradiente da função loss em relação a w\n",
        "      db -- gradiente da função loss em relação a b\n",
        "    \"\"\"\n",
        "\n",
        "    Y = np.array(Y) # converte para o tipo ndarray para acessar o .shape do objeto\n",
        "    m = X.shape[1]  # ToDo: número de exemplos\n",
        "\n",
        "    # Propagação da imagem pela rede\n",
        "    w = np.array(w)\n",
        "    X = np.array(X)\n",
        "    A = sigmoid(np.dot(w.T, X) + b) #ToDo: calcule a ativação. **Dica** : use sua função sigmoid\n",
        "    custo = (-1 / m) * np.sum(Y * np.log(A) + (1 - Y) * np.log(1 - A)) # ToDo: calcule o custo. **Dica** : use a sua função calcula\n",
        "\n",
        "    # Cálculo do custo\n",
        "    dw = (1 /m) * np.dot(X, (A - Y).T) # ToDo: Calcule as deviravas.\n",
        "    db = (1 /m) * np.sum(A - Y) #   **Dica:** use np.dot(..) e não esqueça que em algumas operações um dos vetores precisa ser transposto\n",
        "\n",
        "    custo = np.squeeze(custo)\n",
        "\n",
        "    assert(dw.shape == w.shape)\n",
        "    assert(db.dtype == float)\n",
        "    assert(custo.shape == ())\n",
        "\n",
        "    grads = {\"dw\": dw, \"db\": db}\n",
        "\n",
        "    return grads, custo"
      ],
      "metadata": {
        "id": "PofZb6eWQpfv"
      },
      "execution_count": 76,
      "outputs": []
    },
    {
      "cell_type": "markdown",
      "source": [
        "Agora vamos testar a função `propagacao()`. Para isso, passaremos o vetor de pesos, o valor de bias, os dados de treino e os labels, ou seja, os dados que uma camada oculta precisa receber.\n",
        "\n",
        "Os valores esperados são:\n",
        "\n",
        "<table style=\"width:50%\">\n",
        "    <tr>\n",
        "        <td> <b>dw</b> </td>\n",
        "        <td> [ [ 0.99845601 ] [ 2.39507239 ] ]</td>\n",
        "    </tr>\n",
        "    <tr>\n",
        "        <td> <b>db</b> </td>\n",
        "        <td> 0.00145557813678 </td>\n",
        "    </tr>\n",
        "    <tr>\n",
        "        <td> <b>custo</b> </td>\n",
        "        <td> 5.801545319394553 </td>\n",
        "    </tr>\n",
        "\n",
        "</table>"
      ],
      "metadata": {
        "id": "5ouJRttYRfhE"
      }
    },
    {
      "cell_type": "code",
      "source": [
        "# Teste\n",
        "w, b, X, Y = np.array([[1.],[2.]]), 2., np.array([[1.,2.,-1.],[3.,4.,-3.2]]), np.array([[1,0,1]])\n",
        "grads, custo = propagacao(w, b, X, Y)\n",
        "print (f'dw = {grads[\"dw\"]}')\n",
        "print (f'db = {grads[\"db\"]}')\n",
        "print (f'custo = {custo}')"
      ],
      "metadata": {
        "id": "nwLZx-k0RhmN",
        "colab": {
          "base_uri": "https://localhost:8080/"
        },
        "outputId": "d0966f10-b610-4755-dfee-903437ebe637"
      },
      "execution_count": 77,
      "outputs": [
        {
          "output_type": "stream",
          "name": "stdout",
          "text": [
            "dw = [[0.99845601]\n",
            " [2.39507239]]\n",
            "db = 0.001455578136784208\n",
            "custo = 5.801545319394553\n"
          ]
        }
      ]
    },
    {
      "cell_type": "markdown",
      "source": [
        "#### Otimização dos pesos e descida do gradiente (25pt)"
      ],
      "metadata": {
        "id": "0X8FtulrRjHA"
      }
    },
    {
      "cell_type": "markdown",
      "source": [
        "O processo de atualização dos parâmetros é de extrema importância, pois é ele que vai corrigir os pesos baseado no erro encontrado nos dados de teste. Esse processo é realizado pelo algoritmo da descida do gradiente.\n",
        "\n",
        "O algoritmo visa atualizar os valores de $w$ e $b$, minimizando a função de custo $J$. Para um parâmetro $ \\theta $, a regra de atualização é dada por\n",
        "\n",
        "$$\\theta = \\theta - \\alpha \\text{ } d\\theta,$$\n",
        "\n",
        "em que $\\alpha$ é a taxa de aprendizado."
      ],
      "metadata": {
        "id": "pf9oR-AHRq4-"
      }
    },
    {
      "cell_type": "code",
      "source": [
        "# Algoritmo da descida do gradiente\n",
        "\n",
        "def gradiente_descendente(w, b, X, Y, num_iter, learning_rate, print_custo = False):\n",
        "    \"\"\"\n",
        "    Esta função atualiza/otimiza os parâmetros w e b através do algoritmo do graidente\n",
        "\n",
        "    Entrada:\n",
        "      w -- pesos, de tamanho (num_px * num_px * 3, 1)\n",
        "      b -- bias, um escalar\n",
        "      X -- dados de treinamentos de tamanho (num_px * num_px * 3, número de exemplos)\n",
        "      Y -- ( 0 se não-gato, 1 se gato) de tamanho (1, número de exemplos)\n",
        "      num_iter -- número de interações\n",
        "      learning_rate -- taxa de aprendizegem do algoritmo gradiente descendente\n",
        "      print_custo -- print flag\n",
        "    Saída:\n",
        "      params -- dicionário contendo os pesos w e bias b\n",
        "      grads -- dicionário contendo os gradientes dos pesos w e bias b com relação a função custo\n",
        "      custos -- lista de todos os custos durante a otimização, será usado para plotar a curva de aprendizado.\n",
        "    \"\"\"\n",
        "\n",
        "    custos = []\n",
        "    for i in range(num_iter):\n",
        "        grads, custo = propagacao(w, b, X, Y) # Propagar as imagens pela rede. **Dica** : use sua funcao propagacao(..)\n",
        "\n",
        "        # Recupera os gradientes do dicionário grads\n",
        "\n",
        "        dw = grads[\"dw\"] # ToDo: Recuperar os gradientes do dicionário grads\n",
        "        db = grads[\"db\"] #   **Dica** : fique atento ao tipo de dados de grads para acessar os índices de \"dw\" e \"db\"\n",
        "\n",
        "        w = w - learning_rate * dw # ToDo: Atualize w e b\n",
        "        b = b - learning_rate * db #    **Dica**: lembre-se da taxa de aprendizagem (learning_rate)\n",
        "\n",
        "        # Guarda custos\n",
        "        if i % 100 == 0:\n",
        "            custos.append(custo)\n",
        "\n",
        "        # Imprime o custo a cada 100 interações\n",
        "        if print_custo and i % 100 == 0:\n",
        "            print (f\"Custo após {i:4d} iterações: {custo:.4f}\")\n",
        "\n",
        "    params = {\"w\": w, \"b\": b}\n",
        "    grads = {\"dw\": dw, \"db\": db}\n",
        "\n",
        "    return params, grads, custos"
      ],
      "metadata": {
        "id": "hlwWvvaYRsym"
      },
      "execution_count": 78,
      "outputs": []
    },
    {
      "cell_type": "markdown",
      "source": [
        "Agora vamos testar a função `gradiente_descendente()`. Os valores esperados são:\n",
        "\n",
        "<table style=\"width:40%\">\n",
        "    <tr>\n",
        "       <td> <b>w</b> </td>\n",
        "       <td>[[ 0.19033591 ] [ 0.12259159 ]] </td>\n",
        "    </tr>\n",
        "    <tr>\n",
        "       <td> <b>b</b> </td>\n",
        "       <td> 1.92535983008 </td>\n",
        "    </tr>\n",
        "    <tr>\n",
        "       <td> <b>dw</b> </td>\n",
        "       <td> [[ 0.67752042 ][ 1.41625495 ]] </td>\n",
        "    </tr>\n",
        "    <tr>\n",
        "       <td> <b>db</b> </td>\n",
        "       <td> 0.219194504541 </td>\n",
        "    </tr>\n",
        "</table>"
      ],
      "metadata": {
        "id": "pf7ZfZp5RwIA"
      }
    },
    {
      "cell_type": "code",
      "source": [
        "params, grads, custos = gradiente_descendente(w, b, X, Y, num_iter= 100, learning_rate = 0.009, print_custo = False)\n",
        "\n",
        "print (f'w = {params[\"w\"]}')\n",
        "print (f'b = {params[\"b\"]}')\n",
        "print (f'dw = {grads[\"dw\"]}')\n",
        "print (f'db = {grads[\"db\"]}')"
      ],
      "metadata": {
        "id": "ppgRGjepRwtP",
        "colab": {
          "base_uri": "https://localhost:8080/"
        },
        "outputId": "6ec0a776-999a-454c-88ea-f233f8ad3bd8"
      },
      "execution_count": 79,
      "outputs": [
        {
          "output_type": "stream",
          "name": "stdout",
          "text": [
            "w = [[0.19033591]\n",
            " [0.12259159]]\n",
            "b = 1.9253598300845747\n",
            "dw = [[0.67752042]\n",
            " [1.41625495]]\n",
            "db = 0.21919450454067657\n"
          ]
        }
      ]
    },
    {
      "cell_type": "markdown",
      "source": [
        "#### Predição do modelo (10pt)"
      ],
      "metadata": {
        "id": "yui0yF8PR1Vg"
      }
    },
    {
      "cell_type": "markdown",
      "source": [
        "Depois que o modelo é treinado, ou seja, houve o aprendizado (otimização) dos parâmentros w e b, eles são usados para predizer os rótulos para um conjunto de dados X.\n",
        "\n",
        "O objetivo agora é implementar a função `predicao ()`. Para isso, deve-se:\n",
        "  - Calculae\n",
        "    $$ \\hat{Y} = A = \\sigma(w^T X + b) $$\n",
        "  - Converter $\\hat{Y}$ em 0 (se ativação $\\leq$ 0,5) ou 1 (se ativação > 0,5)."
      ],
      "metadata": {
        "id": "E-l8PtHKR4JY"
      }
    },
    {
      "cell_type": "code",
      "source": [
        "def predicao(w, b, X):\n",
        "    '''\n",
        "    Prediz se o rótulo é 0 ou 1 usando os parâmetros de aprendizagem (w,b) da regressão logística\n",
        "\n",
        "    Entrada:\n",
        "      w -- pesos, de tamanho (num_px * num_px * 3, 1)\n",
        "      b -- bias, um escalar\n",
        "      X -- dados de treinamentos de tamanho (num_px * num_px * 3, número de exemplos)\n",
        "    Saída:\n",
        "      Y_pred -- um vetor contendo todas as predições (0/1) para os dados X\n",
        "    '''\n",
        "\n",
        "    #ToDo : implemente a função\n",
        "\n",
        "    m = X.shape[1]      # ToDo: retornar o número de exemplos. **Dica**: acesso o shape de X e veja qual valor adequado\n",
        "    Y_pred = np.zeros((1, m))  # ToDo: inicialize o vetor de predições. **Dica**: ver np.zeros()\n",
        "\n",
        "    A = sigmoid(np.dot(w.T, X) + b)  # ToDo: Calcular o vetor \"A\" da probabilidade de um gato estar na imagem\n",
        "              #     **dica**: mesma ideia da função propagacao(..)\n",
        "\n",
        "    # ToDo: Converter as proobabilidades A[0,i] para predição p[0,i]\n",
        "    #     **dica**: considere, no vetor A, valores maiores ou iguais a 0.5 como classe 1 e\n",
        "    #               menores que 0.5 como classe 0 e coloque o resultado no vetor Y_pred\n",
        "\n",
        "    Y_pred = (A > 0.5).astype(int) # Converte as probabilidades A em previsões binárias\n",
        "\n",
        "    assert(Y_pred.shape == (1, m))\n",
        "\n",
        "    return Y_pred"
      ],
      "metadata": {
        "id": "bB9gV6t1R5vr"
      },
      "execution_count": 80,
      "outputs": []
    },
    {
      "cell_type": "markdown",
      "source": [
        "Para testar a função `predicao`, devemos passar o vetor de pesos $w$, o bias $b$ e uma entrada. Os valores esperados são:\n",
        "\n",
        "<table style=\"width:30%\">\n",
        "    <tr>\n",
        "         <td>\n",
        "             <b>predições</b>\n",
        "         </td>\n",
        "          <td>\n",
        "            [[ 1.  1.  0.]]\n",
        "         </td>  \n",
        "   </tr>\n",
        "\n",
        "</table>"
      ],
      "metadata": {
        "id": "G9S2pqsjR-jJ"
      }
    },
    {
      "cell_type": "code",
      "source": [
        "# Teste\n",
        "w = np.array([[0.1124579],[0.23106775]])\n",
        "b = -0.3\n",
        "X = np.array([[1.,-1.1,-3.2],[1.2,2.,0.1]])\n",
        "print (f'Predições = {predicao(w, b, X)}')"
      ],
      "metadata": {
        "id": "wYap2KXjSAGt",
        "colab": {
          "base_uri": "https://localhost:8080/"
        },
        "outputId": "a268a8f2-ab24-4434-f854-4a248301bbf6"
      },
      "execution_count": 81,
      "outputs": [
        {
          "output_type": "stream",
          "name": "stdout",
          "text": [
            "Predições = [[1 1 0]]\n"
          ]
        }
      ]
    },
    {
      "cell_type": "markdown",
      "source": [
        "### Criando e treinando o modelo (15pt)\n",
        "\n",
        "\n",
        "---\n",
        "\n"
      ],
      "metadata": {
        "id": "i8DqwQq1SLsw"
      }
    },
    {
      "cell_type": "markdown",
      "source": [
        "Agora que temos as funções para treinar o modelo, podemos criar uma função que junta todas as outras funções para criar e treinar o modelo de treinamento.\n",
        "\n",
        "\n",
        "O objetivo é construir o modelo, usando a seguinte notação:\n",
        "\n",
        "  - `Y_pred_teste` para suas previsões no conjunto de testes\n",
        "  - `Y_pred_treino` para suas previsões no treino\n",
        "  - `w`, `custos`, `grads` para as saídas do algoritmo `gradiente()`."
      ],
      "metadata": {
        "id": "5RvNMAgtSPV1"
      }
    },
    {
      "cell_type": "code",
      "source": [
        "# Modelo\n",
        "\n",
        "def treinar_modelo(X_treino, Y_treino, X_teste, Y_teste, num_iter = 5000, learning_rate = 0.5, print_custo = False):\n",
        "    \"\"\"\n",
        "    Cria o modelo de regressão logística chamando as funções auxiliares\n",
        "\n",
        "    Entradas:\n",
        "      X_treino -- conjunto de treinamento representado por uma matriz numpy da forma (num_px * num_px * 3, m_treino)\n",
        "      Y_treino -- rótulos de treinamento representados por uma matriz numpy (vetor) da forma (1, m_treino)\n",
        "      X_teste -- conjunto de teste representado por uma matriz numpy da forma (num_px * num_px * 3, m_teste)\n",
        "      Y_teste -- rótulos de teste representados por uma matriz numpy (vetor) da forma (1, m_teste)\n",
        "      num_iter -- hiperparâmetro que representa o número de iterações para otimizar os parâmetros\n",
        "      learning_rate -- hiperparâmetro que representa a taxa de aprendizado usada na regra de atualização do gradiente descendete\n",
        "      print_custo -- Defina como true para imprimir o custo a cada 100 iterações\n",
        "    Saída:\n",
        "      d -- dicionário contendo informações sobre o modelo.\n",
        "    \"\"\"\n",
        "       # ToDo: Inicilizar os parâmetros. Use sua funcao de inicialização e coloque o retorno em w e b\n",
        "    w, b = inicializar_parametros(X_treino.shape[0])\n",
        "\n",
        "    # ToDo: Calcular o gradiente descendente. Use sua função  gradiente_descendente e preencha as variáveis de retorno\n",
        "    parametros, grads, custos = gradiente_descendente(w, b, X_treino, Y_treino, num_iter, learning_rate, print_custo)\n",
        "\n",
        "    # ToDo: Recuperar os parâmetros w e b do dicionário \"parametros\"\n",
        "    w = parametros[\"w\"]\n",
        "    b = parametros[\"b\"]\n",
        "\n",
        "    # ToDo: Computar predições para os conjuntos treino e teste. **Dica**: Use sua função predicao(..)\n",
        "    Y_pred_teste = predicao(w, b, X_teste)\n",
        "    Y_pred_treino = predicao(w, b, X_treino)\n",
        "\n",
        "    # Imprime erros do treino/teste\n",
        "    print(\"treino acurácia: {} %\".format(100 - np.mean(np.abs(Y_pred_treino - Y_treino)) * 100))\n",
        "    print(\"teste acurácia: {} %\".format(100 - np.mean(np.abs(Y_pred_teste - Y_teste)) * 100))\n",
        "\n",
        "    d = {\"custos\": custos,\n",
        "         \"Y_pred_teste\": Y_pred_teste,\n",
        "         \"Y_pred_treino\" : Y_pred_treino,\n",
        "         \"w\" : w,\n",
        "         \"b\" : b,\n",
        "         \"learning_rate\" : learning_rate,\n",
        "         \"num_iter\": num_iter}\n",
        "\n",
        "    return d"
      ],
      "metadata": {
        "id": "z_bOJZkoSSDu"
      },
      "execution_count": 97,
      "outputs": []
    },
    {
      "cell_type": "markdown",
      "source": [
        "### Testando o modelo treinado (3pt)\n",
        "\n",
        "\n",
        "---\n",
        "\n"
      ],
      "metadata": {
        "id": "oHv0D_c1SUW9"
      }
    },
    {
      "cell_type": "markdown",
      "source": [
        "A função `treinar_modelo` é a única necessária neste ponto, pois ela combina todas as demais criadas até aqui. Para o teste abaixo, espera-se os seguintes resultados:\n",
        "\n",
        "<table style=\"width:40%\">\n",
        "    <tr>\n",
        "        <td> <b>Custo depois da iteração 0</b> </td>\n",
        "        <td> 0.693147 </td>\n",
        "    </tr>\n",
        "      <tr>\n",
        "        <td> <center> . . . </center> </td>\n",
        "        <td> <center> . . . </center> </td>\n",
        "    </tr>  \n",
        "    <tr>\n",
        "        <td><b>Acurácia no treino</b></td>\n",
        "        <td> 100 % </td>\n",
        "    </tr>\n",
        "    <tr>\n",
        "        <td><b>Acurácia no teste</b></td>\n",
        "        <td> 68.0 % </td>\n",
        "    </tr>\n",
        "</table>\n",
        "\n",
        "***os valores não precisam ser exatos.***"
      ],
      "metadata": {
        "id": "ZUORHnlF2098"
      }
    },
    {
      "cell_type": "code",
      "source": [
        "d = treinar_modelo(treino_x, treino_y, teste_x, teste_y, num_iter=3000, learning_rate=0.01, print_custo=True)"
      ],
      "metadata": {
        "id": "TU6bcovlSWnH",
        "colab": {
          "base_uri": "https://localhost:8080/"
        },
        "outputId": "7ddb9145-8586-4fee-8122-1a2fe26ceee7"
      },
      "execution_count": 98,
      "outputs": [
        {
          "output_type": "stream",
          "name": "stdout",
          "text": [
            "Custo após    0 iterações: 0.8493\n",
            "Custo após  100 iterações: 0.4533\n",
            "Custo após  200 iterações: 0.4052\n",
            "Custo após  300 iterações: 0.6163\n",
            "Custo após  400 iterações: 0.5249\n",
            "Custo após  500 iterações: 0.3897\n",
            "Custo após  600 iterações: 0.2428\n",
            "Custo após  700 iterações: 0.1544\n",
            "Custo após  800 iterações: 0.1354\n",
            "Custo após  900 iterações: 0.1250\n",
            "Custo após 1000 iterações: 0.1165\n",
            "Custo após 1100 iterações: 0.1092\n",
            "Custo após 1200 iterações: 0.1028\n",
            "Custo após 1300 iterações: 0.0971\n",
            "Custo após 1400 iterações: 0.0920\n",
            "Custo após 1500 iterações: 0.0874\n",
            "Custo após 1600 iterações: 0.0833\n",
            "Custo após 1700 iterações: 0.0795\n",
            "Custo após 1800 iterações: 0.0760\n",
            "Custo após 1900 iterações: 0.0728\n",
            "Custo após 2000 iterações: 0.0698\n",
            "Custo após 2100 iterações: 0.0671\n",
            "Custo após 2200 iterações: 0.0646\n",
            "Custo após 2300 iterações: 0.0622\n",
            "Custo após 2400 iterações: 0.0600\n",
            "Custo após 2500 iterações: 0.0580\n",
            "Custo após 2600 iterações: 0.0561\n",
            "Custo após 2700 iterações: 0.0543\n",
            "Custo após 2800 iterações: 0.0526\n",
            "Custo após 2900 iterações: 0.0510\n",
            "treino acurácia: 100.0 %\n",
            "teste acurácia: 68.0 %\n"
          ]
        }
      ]
    },
    {
      "cell_type": "markdown",
      "source": [
        "#### Usando o modelo treinado para classificar um imagem (1pt)"
      ],
      "metadata": {
        "id": "cnJ_M7vs5Hi8"
      }
    },
    {
      "cell_type": "code",
      "source": [
        "# Exemplos das predições\n",
        "index = 11\n",
        "plt.imshow(teste_x[:,index].reshape((num_px, num_px, 3)))\n",
        "print (f'y = {classes[teste_y[0,index]].decode(\"utf-8\")}({teste_y[0,index]}), o modelo predizeu que é um \"{classes[int(d[\"Y_pred_teste\"][0][index])].decode(\"utf-8\")}\" picture.')"
      ],
      "metadata": {
        "id": "sBeg3PglSgPk",
        "colab": {
          "base_uri": "https://localhost:8080/",
          "height": 389
        },
        "outputId": "1840a6d0-83d4-4b0f-bb91-e6a6dea0b47a"
      },
      "execution_count": 99,
      "outputs": [
        {
          "output_type": "stream",
          "name": "stdout",
          "text": [
            "y = cat(1), o modelo predizeu que é um \"non-cat\" picture.\n"
          ]
        },
        {
          "output_type": "display_data",
          "data": {
            "text/plain": [
              "<Figure size 500x400 with 1 Axes>"
            ],
            "image/png": "[encoded data removed]"
          },
          "metadata": {}
        }
      ]
    },
    {
      "cell_type": "markdown",
      "source": [
        "ToDo: A acurácia no treinamento é próxima de 100%. Seu modelo está funcionando e tem capacidade alta o suficiente para ajustar os dados de treinamento. A acurácia no teste é de 68%. Porque tanta diferença?\n",
        "\n",
        "A diferença ocorre por varios motivos, uma delas é a complexidade do modelo, Se o modelo for muito complexo, ele pode aprender padrões específicos nos dados de treinamento que não são generalizáveis para outros dados.A  outra razão é a insuficiencia dos dados, ou seja, se os dados de treinamento forem pequeno, o modelo pode memorizar os exemplos em vez de aprender os padrões, por outro lado, as caracteristicas, isto é, se o conjunto das caracteristicas forem maior que o numero de exemplo, o modelo pode se ajustar mais ao dados de treinamento."
      ],
      "metadata": {
        "id": "t8WkBfahSakE"
      }
    },
    {
      "cell_type": "markdown",
      "source": [
        " Plota a função custo e os gradientes"
      ],
      "metadata": {
        "id": "iWa1M9MfSiwB"
      }
    },
    {
      "cell_type": "code",
      "source": [
        "# Plot learning curve (with costs)\n",
        "custos = np.squeeze(d['custos'])\n",
        "plt.plot(custos)\n",
        "plt.ylabel('custo')\n",
        "plt.xlabel('iterações (por centenas)')\n",
        "plt.title(\"Taxa de aprendizagem =\" + str(d[\"learning_rate\"]))\n",
        "plt.show()"
      ],
      "metadata": {
        "id": "mZSKcMhZSkis",
        "colab": {
          "base_uri": "https://localhost:8080/",
          "height": 410
        },
        "outputId": "863d8ff6-bce5-491b-bf3a-cfed31b8084e"
      },
      "execution_count": 100,
      "outputs": [
        {
          "output_type": "display_data",
          "data": {
            "text/plain": [
              "<Figure size 500x400 with 1 Axes>"
            ],
            "image/png": "[encoded data removed]"
          },
          "metadata": {}
        }
      ]
    },
    {
      "cell_type": "markdown",
      "source": [
        "**Interpretação**:\n",
        "\n",
        "Você pode ver o custo diminuindo. Isso mostra que os parâmetros estão sendo aprendidos. No entanto, você pode treinar o modelo ainda mais no conjunto de treinamento."
      ],
      "metadata": {
        "id": "5VUYtJ8rSmyK"
      }
    },
    {
      "cell_type": "markdown",
      "source": [
        "#### Avaliando o número de épocas de treinamento (1pt)"
      ],
      "metadata": {
        "id": "dEHI7RCq6aoD"
      }
    },
    {
      "cell_type": "markdown",
      "source": [
        "Vamos comparar a curva de aprendizado do modelo com várias opções de número de iterações. Execute a célula abaixo."
      ],
      "metadata": {
        "id": "eLutbOiw6f5c"
      }
    },
    {
      "cell_type": "code",
      "source": [
        "num_iters = [500, 1000, 2000, 3000, 4000]\n",
        "modelos = {}\n",
        "for i in num_iters:\n",
        "    print (\"Iterações é: \" + str(i))\n",
        "    modelos[str(i)] = treinar_modelo(treino_x, treino_y, teste_x, teste_y, num_iter=i, learning_rate=0.01, print_custo=False)\n",
        "    modelos[str(i)]['num_iters'] = i\n",
        "    print ('\\n' + \"-------------------------------------------------------\" + '\\n')\n",
        "\n",
        "for i in num_iters:\n",
        "    plt.plot(np.squeeze(modelos[str(i)][\"custos\"]), label= str(modelos[str(i)]['num_iters']))\n",
        "\n",
        "plt.ylabel('custo')\n",
        "plt.xlabel('iterações (por centenas)')\n",
        "\n",
        "legend = plt.legend(loc='upper center', shadow=True)\n",
        "frame = legend.get_frame()\n",
        "frame.set_facecolor('0.90')\n",
        "plt.show()"
      ],
      "metadata": {
        "id": "OxnKx6GS6pFf",
        "colab": {
          "base_uri": "https://localhost:8080/",
          "height": 924
        },
        "outputId": "18df81ea-4ade-4e60-fdad-6b98350f2a4f"
      },
      "execution_count": 105,
      "outputs": [
        {
          "output_type": "stream",
          "name": "stdout",
          "text": [
            "Iterações é: 500\n",
            "treino acurácia: 78.4688995215311 %\n",
            "teste acurácia: 42.00000000000001 %\n",
            "\n",
            "-------------------------------------------------------\n",
            "\n",
            "Iterações é: 1000\n",
            "treino acurácia: 98.56459330143541 %\n",
            "teste acurácia: 72.0 %\n",
            "\n",
            "-------------------------------------------------------\n",
            "\n",
            "Iterações é: 2000\n",
            "treino acurácia: 99.52153110047847 %\n",
            "teste acurácia: 70.0 %\n",
            "\n",
            "-------------------------------------------------------\n",
            "\n",
            "Iterações é: 3000\n",
            "treino acurácia: 100.0 %\n",
            "teste acurácia: 68.0 %\n",
            "\n",
            "-------------------------------------------------------\n",
            "\n",
            "Iterações é: 4000\n",
            "treino acurácia: 100.0 %\n",
            "teste acurácia: 66.0 %\n",
            "\n",
            "-------------------------------------------------------\n",
            "\n"
          ]
        },
        {
          "output_type": "display_data",
          "data": {
            "text/plain": [
              "<Figure size 500x400 with 1 Axes>"
            ],
            "image/png": "[encoded data removed]"
          },
          "metadata": {}
        }
      ]
    },
    {
      "cell_type": "markdown",
      "source": [
        "**Interpretação**:\n",
        "- Diferentes número de épocas podem fornecer custos diferentes, contudo, dado um ponto, o custo não se altera no treinamento.\n",
        "- Se o número de épocas for muito alto, o custo se estabiliza e o modelo não consegue aprender mais nada (isso pode ser impactado por outras variáveis). Se for baixo, o modelo ainda possui espaço para melhora que não foi explorado."
      ],
      "metadata": {
        "id": "mviE_gcw71wT"
      }
    },
    {
      "cell_type": "markdown",
      "source": [
        "ToDo: O que acontece quando o número de iterações mudou? Explique\n",
        "\n",
        "Observando os resultados, constante-se que quando o numero de iterações é muito baixo, o modelo não aprende o suficiente, quando o numero de iteraçõe é alto, o modelo pode acabando memorizar os dados de treinamento e não generalizar bem para os dados novos. visto que na medida que o numero de iterações aumentos a curacia vai aumentando e diminuindo o conjuto de teste"
      ],
      "metadata": {
        "id": "oeEQ4-Uw9wVS"
      }
    },
    {
      "cell_type": "markdown",
      "source": [
        "#### Avaliando a taxa de aprendizado (1pt)"
      ],
      "metadata": {
        "id": "_PbTqP32SyJo"
      }
    },
    {
      "cell_type": "markdown",
      "source": [
        "**Lembrete**:\n",
        "O algoritmo da descida do gradiente, depende da escolha da taxa de aprendizado. A taxa de aprendizado $ \\alpha $ determina a rapidez com que atualizamos os parâmetros. Se a taxa de aprendizado for muito alta, podemos \"ultrapassar\" o valor ideal. Da mesma forma, se for muito pequeno, precisaremos de muitas iterações para convergir para os melhores valores. É por isso que é crucial usar uma taxa de aprendizado bem ajustada.\n",
        "\n",
        "Vamos comparar a curva de aprendizado do modelo com várias opções de taxas de aprendizado. Execute a célula abaixo."
      ],
      "metadata": {
        "id": "i-OeergdS1I2"
      }
    },
    {
      "cell_type": "code",
      "source": [
        "learning_rates = [0.025, 0.0025, 0.0001]\n",
        "modelos = {}\n",
        "for i in learning_rates:\n",
        "    print (\"learning rate é: \" + str(i))\n",
        "    modelos[str(i)] = treinar_modelo(treino_x, treino_y, teste_x, teste_y, num_iter = 2500, learning_rate = i, print_custo = False)\n",
        "    print ('\\n' + \"-------------------------------------------------------\" + '\\n')\n",
        "\n",
        "for i in learning_rates:\n",
        "    plt.plot(np.squeeze(modelos[str(i)][\"custos\"]), label= str(modelos[str(i)][\"learning_rate\"]))\n",
        "\n",
        "plt.ylabel('custo')\n",
        "plt.xlabel('iterações (por centenas)')\n",
        "\n",
        "legend = plt.legend(loc='upper center', shadow=True)\n",
        "frame = legend.get_frame()\n",
        "frame.set_facecolor('0.90')\n",
        "plt.show()"
      ],
      "metadata": {
        "id": "hvd9Dcd6S24G",
        "colab": {
          "base_uri": "https://localhost:8080/",
          "height": 710
        },
        "outputId": "32876e21-ca2c-4fb6-ba64-3e76c3a2d7ea"
      },
      "execution_count": 103,
      "outputs": [
        {
          "output_type": "stream",
          "name": "stdout",
          "text": [
            "learning rate é: 0.025\n",
            "treino acurácia: 100.0 %\n",
            "teste acurácia: 68.0 %\n",
            "\n",
            "-------------------------------------------------------\n",
            "\n",
            "learning rate é: 0.0025\n",
            "treino acurácia: 97.12918660287082 %\n",
            "teste acurácia: 74.0 %\n",
            "\n",
            "-------------------------------------------------------\n",
            "\n",
            "learning rate é: 0.0001\n",
            "treino acurácia: 72.72727272727273 %\n",
            "teste acurácia: 50.0 %\n",
            "\n",
            "-------------------------------------------------------\n",
            "\n"
          ]
        },
        {
          "output_type": "display_data",
          "data": {
            "text/plain": [
              "<Figure size 500x400 with 1 Axes>"
            ],
            "image/png": "[encoded data removed]"
          },
          "metadata": {}
        }
      ]
    },
    {
      "cell_type": "markdown",
      "source": [
        "**Interpretação**:\n",
        "- Diferentes taxas de aprendizado fornecem custos diferentes e, portanto, resultados de previsões diferentes.\n",
        "- Se a taxa de aprendizado for muito alta (0,01), o custo poderá oscilar para cima e para baixo. Pode até divergir (embora, neste exemplo, o uso de 0,01 ainda termine com um bom valor para o custo).\n",
        "- Um custo menor não significa um modelo melhor. Pode ocorrer o `overfitting`. Isso acontece quando a precisão do treinamento é muito maior que a precisão do teste."
      ],
      "metadata": {
        "id": "LY5rGUljS6L6"
      }
    },
    {
      "cell_type": "markdown",
      "source": [
        "ToDo: O que acontece quando o valor de learning rate mudou? Explique\n",
        "\n",
        "Quando o valor de learning rate é alterado pode ocorrer que o modelo oscilar em torno do mínimo global da função de custo. essa oscilação pode ser para melhor quando a taxa de aprendizagem for menor do que a taxa anterior, ou pior caso a taxa de aprendizagem for muito alto. uma taxa de aprendizagem adequada é fundamental para garantir que o modelo aprenda de forma  eficiente sem oscilações excessivas ou overfitting"
      ],
      "metadata": {
        "id": "thx60AUf6CYN"
      }
    }
  ]
}